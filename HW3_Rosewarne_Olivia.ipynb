{
 "cells": [
  {
   "cell_type": "code",
   "execution_count": 8,
   "id": "e1fe4bdc",
   "metadata": {},
   "outputs": [
    {
     "name": "stdout",
     "output_type": "stream",
     "text": [
      "3\n",
      "9\n",
      "greater than 8\n"
     ]
    }
   ],
   "source": [
    "#question 2\n",
    "def function_2(n):\n",
    "    num = 8\n",
    "    while n < num: \n",
    "        print (n) \n",
    "        n = n**2 \n",
    "        print(n)\n",
    "    else: \n",
    "        print(\"greater than\", num)\n",
    "        \n",
    "function_2 (3)"
   ]
  },
  {
   "cell_type": "code",
   "execution_count": 179,
   "id": "9585bee6",
   "metadata": {},
   "outputs": [
    {
     "name": "stdout",
     "output_type": "stream",
     "text": [
      "greater than 8\n"
     ]
    }
   ],
   "source": [
    "#question 2\n",
    "function_2 (10)"
   ]
  },
  {
   "cell_type": "code",
   "execution_count": 160,
   "id": "4e33e256",
   "metadata": {},
   "outputs": [
    {
     "data": {
      "text/plain": [
       "50.0"
      ]
     },
     "execution_count": 160,
     "metadata": {},
     "output_type": "execute_result"
    }
   ],
   "source": [
    "#question 5\n",
    "import math\n",
    "def function_5A(v1, v2): \n",
    "    return sum(range(v1, v2)) / len(range(v1, v2))\n",
    "    \n",
    "function_5A(1, 100)"
   ]
  },
  {
   "cell_type": "code",
   "execution_count": 154,
   "id": "19d104af",
   "metadata": {},
   "outputs": [
    {
     "data": {
      "text/plain": [
       "4950"
      ]
     },
     "execution_count": 154,
     "metadata": {},
     "output_type": "execute_result"
    }
   ],
   "source": [
    "#question 5\n",
    "def function_5B(v1, v2):\n",
    "    return sum(range(v1, v2))\n",
    "\n",
    "function_5B(1, 100)"
   ]
  },
  {
   "cell_type": "code",
   "execution_count": 162,
   "id": "9f9fe422",
   "metadata": {},
   "outputs": [
    {
     "data": {
      "text/plain": [
       "28.577380332470412"
      ]
     },
     "execution_count": 162,
     "metadata": {},
     "output_type": "execute_result"
    }
   ],
   "source": [
    "#question 5\n",
    "import statistics as stats\n",
    "def function_5C (v1, v2):\n",
    "    return stats.pstdev(range(v1, v2))\n",
    "\n",
    "function_5C(1, 100)"
   ]
  },
  {
   "cell_type": "code",
   "execution_count": 50,
   "id": "52711424",
   "metadata": {},
   "outputs": [
    {
     "data": {
      "text/plain": [
       "5"
      ]
     },
     "execution_count": 50,
     "metadata": {},
     "output_type": "execute_result"
    }
   ],
   "source": [
    "#question 6\n",
    "def minimal(v1, v2, v3, v4):\n",
    "    return min(v1, v2, v3, v4)\n",
    "    \n",
    "minimal(6, 8, 9, 5)"
   ]
  },
  {
   "cell_type": "code",
   "execution_count": 139,
   "id": "4ace01da",
   "metadata": {},
   "outputs": [],
   "source": [
    "#question 1 \n",
    "marks = {'Andy':88, 'Amy':66, 'James': 90, 'Jules': 55, 'Arthur': 77}"
   ]
  },
  {
   "cell_type": "code",
   "execution_count": 224,
   "id": "028592e9",
   "metadata": {},
   "outputs": [
    {
     "data": {
      "text/plain": [
       "88"
      ]
     },
     "execution_count": 224,
     "metadata": {},
     "output_type": "execute_result"
    }
   ],
   "source": [
    "#question 1a\n",
    "def grades(name):\n",
    "    for name, score in marks.items():\n",
    "        return score\n",
    "    else: \n",
    "        print(\"cannot find students name\")\n",
    "    \n",
    "grades('Steve')"
   ]
  },
  {
   "cell_type": "code",
   "execution_count": 223,
   "id": "209afec0",
   "metadata": {},
   "outputs": [
    {
     "data": {
      "text/plain": [
       "75.2"
      ]
     },
     "execution_count": 223,
     "metadata": {},
     "output_type": "execute_result"
    }
   ],
   "source": [
    "#question 1b\n",
    "def average1(scores):\n",
    "    return sum(scores)/len(scores)\n",
    "\n",
    "average1(marks.values())"
   ]
  },
  {
   "cell_type": "code",
   "execution_count": 95,
   "id": "058d56e4",
   "metadata": {},
   "outputs": [
    {
     "data": {
      "text/plain": [
       "10"
      ]
     },
     "execution_count": 95,
     "metadata": {},
     "output_type": "execute_result"
    }
   ],
   "source": [
    "#question 3\n",
    "\n",
    "def sums(num):\n",
    "    while range(1, num):\n",
    "        return sum(range(1, num))\n",
    "    \n",
    "    \n",
    "sums(5)"
   ]
  },
  {
   "cell_type": "code",
   "execution_count": 177,
   "id": "62853717",
   "metadata": {},
   "outputs": [
    {
     "data": {
      "text/plain": [
       "28"
      ]
     },
     "execution_count": 177,
     "metadata": {},
     "output_type": "execute_result"
    }
   ],
   "source": [
    "#question 4\n",
    "def function4(v1, v2):\n",
    "    for n in range(v1, v2):\n",
    "        return sum(range(v1, v2))\n",
    "        \n",
    "function4(1, 8)"
   ]
  },
  {
   "cell_type": "code",
   "execution_count": 215,
   "id": "d6d01980",
   "metadata": {},
   "outputs": [
    {
     "ename": "NameError",
     "evalue": "name 'concatenated_list' is not defined",
     "output_type": "error",
     "traceback": [
      "\u001b[0;31m---------------------------------------------------------------------------\u001b[0m",
      "\u001b[0;31mNameError\u001b[0m                                 Traceback (most recent call last)",
      "Input \u001b[0;32mIn [215]\u001b[0m, in \u001b[0;36m<cell line: 7>\u001b[0;34m()\u001b[0m\n\u001b[1;32m      4\u001b[0m     \u001b[38;5;28;01mfor\u001b[39;00m i \u001b[38;5;129;01min\u001b[39;00m \u001b[38;5;28mrange\u001b[39m(concatenated_list):\n\u001b[1;32m      5\u001b[0m         \u001b[38;5;28;01mreturn\u001b[39;00m(\u001b[38;5;124mf\u001b[39m\u001b[38;5;124m'\u001b[39m\u001b[38;5;124m \u001b[39m\u001b[38;5;132;01m{\u001b[39;00mi\u001b[38;5;132;01m}\u001b[39;00m\u001b[38;5;124m: \u001b[39m\u001b[38;5;132;01m{\u001b[39;00mconcatenated_list\u001b[38;5;132;01m}\u001b[39;00m\u001b[38;5;124m'\u001b[39m)\n\u001b[0;32m----> 7\u001b[0m \u001b[43mconcat\u001b[49m\u001b[43m(\u001b[49m\u001b[38;5;124;43m'\u001b[39;49m\u001b[38;5;124;43mOlivia\u001b[39;49m\u001b[38;5;124;43m'\u001b[39;49m\u001b[43m,\u001b[49m\u001b[43m \u001b[49m\u001b[38;5;241;43m24\u001b[39;49m\u001b[43m)\u001b[49m\n",
      "Input \u001b[0;32mIn [215]\u001b[0m, in \u001b[0;36mconcat\u001b[0;34m(name, number)\u001b[0m\n\u001b[1;32m      3\u001b[0m \u001b[38;5;28;01mdef\u001b[39;00m \u001b[38;5;21mconcat\u001b[39m(name, number):\n\u001b[0;32m----> 4\u001b[0m     \u001b[38;5;28;01mfor\u001b[39;00m i \u001b[38;5;129;01min\u001b[39;00m \u001b[38;5;28mrange\u001b[39m(\u001b[43mconcatenated_list\u001b[49m):\n\u001b[1;32m      5\u001b[0m         \u001b[38;5;28;01mreturn\u001b[39;00m(\u001b[38;5;124mf\u001b[39m\u001b[38;5;124m'\u001b[39m\u001b[38;5;124m \u001b[39m\u001b[38;5;132;01m{\u001b[39;00mi\u001b[38;5;132;01m}\u001b[39;00m\u001b[38;5;124m: \u001b[39m\u001b[38;5;132;01m{\u001b[39;00mconcatenated_list\u001b[38;5;132;01m}\u001b[39;00m\u001b[38;5;124m'\u001b[39m)\n",
      "\u001b[0;31mNameError\u001b[0m: name 'concatenated_list' is not defined"
     ]
    }
   ],
   "source": [
    "#question 7\n",
    "\n",
    "def concat(name, number):\n",
    "    for i in range(concatenated_list):\n",
    "        return(f' {i}: {concatenated_list}')\n",
    "\n",
    "concat('Olivia', 24)\n"
   ]
  }
 ],
 "metadata": {
  "kernelspec": {
   "display_name": "Python 3 (ipykernel)",
   "language": "python",
   "name": "python3"
  },
  "language_info": {
   "codemirror_mode": {
    "name": "ipython",
    "version": 3
   },
   "file_extension": ".py",
   "mimetype": "text/x-python",
   "name": "python",
   "nbconvert_exporter": "python",
   "pygments_lexer": "ipython3",
   "version": "3.9.12"
  }
 },
 "nbformat": 4,
 "nbformat_minor": 5
}
