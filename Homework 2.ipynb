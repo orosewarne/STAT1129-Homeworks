{
 "cells": [
  {
   "cell_type": "code",
   "execution_count": 6,
   "id": "1462f640",
   "metadata": {},
   "outputs": [
    {
     "name": "stdout",
     "output_type": "stream",
     "text": [
      "0\n",
      "1\n",
      "2\n",
      "3\n",
      "4\n"
     ]
    }
   ],
   "source": [
    "n = 0 \n",
    "while n < 10:\n",
    "    print(n)\n",
    "    n= n +1\n",
    "    if n == 5: \n",
    "        break \n",
    "        print(n)"
   ]
  },
  {
   "cell_type": "code",
   "execution_count": 7,
   "id": "2ca86c2d",
   "metadata": {},
   "outputs": [
    {
     "name": "stdout",
     "output_type": "stream",
     "text": [
      "0\n",
      "1\n",
      "2\n",
      "3\n",
      "4\n",
      "5 is not less than 5\n"
     ]
    }
   ],
   "source": [
    "n = 0\n",
    "while n < 5: \n",
    "    print (n) \n",
    "    n = n + 1 \n",
    "\n",
    "else: \n",
    "    print(n, \"is not less than 5\")"
   ]
  },
  {
   "cell_type": "code",
   "execution_count": 25,
   "id": "5692950b",
   "metadata": {},
   "outputs": [
    {
     "name": "stdout",
     "output_type": "stream",
     "text": [
      "I like peach\n",
      "I like strawberry\n",
      "apple really a fruit?\n"
     ]
    }
   ],
   "source": [
    "fruit = [\"peach\", \"strawberry\", \"apple\"]\n",
    "\n",
    "for f in fruit: \n",
    "    if f != \"apple\": \n",
    "        print(\"I like\", f)\n",
    "    elif f == \"apple\": \n",
    "        print (f, \"really a fruit?\")\n",
    "    "
   ]
  },
  {
   "cell_type": "code",
   "execution_count": 31,
   "id": "67316c8b",
   "metadata": {},
   "outputs": [
    {
     "name": "stdout",
     "output_type": "stream",
     "text": [
      "465\n"
     ]
    }
   ],
   "source": [
    "list = range(0,31)\n",
    "print (sum(list))"
   ]
  },
  {
   "cell_type": "code",
   "execution_count": 35,
   "id": "fa0c55d7",
   "metadata": {},
   "outputs": [
    {
     "name": "stdout",
     "output_type": "stream",
     "text": [
      "F\n"
     ]
    }
   ],
   "source": [
    "grade = 50\n",
    "\n",
    "if grade >= 60:\n",
    "    print (\"D\")\n",
    "    \n",
    "elif grade >= 70:\n",
    "        print(\"C\")\n",
    "        \n",
    "elif grade >= 80:\n",
    "            print(\"B\")\n",
    "            \n",
    "elif grade >=90:\n",
    "                print(\"A\")\n",
    "\n",
    "else: \n",
    "    print (\"F\")"
   ]
  },
  {
   "cell_type": "code",
   "execution_count": 169,
   "id": "0b6d3166",
   "metadata": {},
   "outputs": [],
   "source": [
    "scores = {'Andy': 88, 'Amy': 66, 'James':90, 'Jules': 55, 'Arthur': 77}"
   ]
  },
  {
   "cell_type": "code",
   "execution_count": 170,
   "id": "49fea7d9",
   "metadata": {},
   "outputs": [
    {
     "name": "stdout",
     "output_type": "stream",
     "text": [
      "Andy 88\n",
      "Amy 66\n",
      "James 90\n",
      "Jules 55\n",
      "Arthur 77\n"
     ]
    }
   ],
   "source": [
    "for key, value in scores.items():\n",
    "    print (key, value)"
   ]
  },
  {
   "cell_type": "code",
   "execution_count": 171,
   "id": "5d0a6592",
   "metadata": {},
   "outputs": [],
   "source": [
    "import math"
   ]
  },
  {
   "cell_type": "code",
   "execution_count": 172,
   "id": "8a2ca2bc",
   "metadata": {},
   "outputs": [
    {
     "name": "stdout",
     "output_type": "stream",
     "text": [
      "88\n",
      "66\n",
      "90\n",
      "55\n",
      "77\n"
     ]
    }
   ],
   "source": [
    "for key, value in scores.items():\n",
    "    v = scores.values()\n",
    "    print(value)"
   ]
  },
  {
   "cell_type": "code",
   "execution_count": 173,
   "id": "8123af8e",
   "metadata": {},
   "outputs": [],
   "source": [
    "mean = sum (scores.values()) / len(scores.values())"
   ]
  },
  {
   "cell_type": "code",
   "execution_count": 174,
   "id": "1e0707c3",
   "metadata": {},
   "outputs": [
    {
     "name": "stdout",
     "output_type": "stream",
     "text": [
      "75.2\n"
     ]
    }
   ],
   "source": [
    "print(mean)"
   ]
  },
  {
   "cell_type": "code",
   "execution_count": 175,
   "id": "307d2424",
   "metadata": {},
   "outputs": [
    {
     "data": {
      "text/plain": [
       "90"
      ]
     },
     "execution_count": 175,
     "metadata": {},
     "output_type": "execute_result"
    }
   ],
   "source": [
    "max(scores.values())"
   ]
  },
  {
   "cell_type": "code",
   "execution_count": 176,
   "id": "2380f7cd",
   "metadata": {},
   "outputs": [
    {
     "data": {
      "text/plain": [
       "55"
      ]
     },
     "execution_count": 176,
     "metadata": {},
     "output_type": "execute_result"
    }
   ],
   "source": [
    "min(scores.values())"
   ]
  },
  {
   "cell_type": "code",
   "execution_count": 187,
   "id": "e8809c1c",
   "metadata": {},
   "outputs": [
    {
     "name": "stdout",
     "output_type": "stream",
     "text": [
      "Andy\n",
      "Amy\n"
     ]
    }
   ],
   "source": [
    "for key, value in scores.items():\n",
    "    if 'J' in key:\n",
    "        break \n",
    "        \n",
    "    else: \n",
    "        print(key)"
   ]
  },
  {
   "cell_type": "code",
   "execution_count": 188,
   "id": "a392ed7e",
   "metadata": {},
   "outputs": [
    {
     "name": "stdout",
     "output_type": "stream",
     "text": [
      "Andy\n",
      "Amy\n",
      "Arthur\n"
     ]
    }
   ],
   "source": [
    "for key, value in scores.items():\n",
    "    if 'J' in key:\n",
    "        continue \n",
    "        \n",
    "    else: \n",
    "        print(key)"
   ]
  }
 ],
 "metadata": {
  "kernelspec": {
   "display_name": "Python 3 (ipykernel)",
   "language": "python",
   "name": "python3"
  },
  "language_info": {
   "codemirror_mode": {
    "name": "ipython",
    "version": 3
   },
   "file_extension": ".py",
   "mimetype": "text/x-python",
   "name": "python",
   "nbconvert_exporter": "python",
   "pygments_lexer": "ipython3",
   "version": "3.9.12"
  }
 },
 "nbformat": 4,
 "nbformat_minor": 5
}
